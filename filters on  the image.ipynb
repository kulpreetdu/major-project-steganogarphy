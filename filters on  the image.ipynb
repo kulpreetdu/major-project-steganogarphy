{
 "cells": [
  {
   "cell_type": "markdown",
   "metadata": {},
   "source": [
    "# blurring on the image"
   ]
  },
  {
   "cell_type": "code",
   "execution_count": 1,
   "metadata": {},
   "outputs": [],
   "source": [
    "# Importing Image and ImageFilter module from PIL package\n",
    "from PIL import Image, ImageFilter\n",
    "\n",
    "# creating a image object\n",
    "im1 = Image.open(r\"lady.jpg\")\n",
    "\n",
    "# applying the blur filter\n",
    "im2 = im1.filter(ImageFilter.BLUR)\n",
    "im2 = im2.save(\"blur.jpg\")\n",
    "#im2.show()\n",
    "#no. of characters in the txt file          psnr value\n",
    "#1,218                                        60.316\n",
    "#3,654                                        55.876\n",
    "#7,308‬                                        53.258\n",
    "#12,180‬                                       51.5680\n",
    "#18,270                                       49.42248\n",
    "#24,360                                       47.8772"
   ]
  },
  {
   "cell_type": "markdown",
   "metadata": {},
   "source": [
    "# contouring of the image"
   ]
  },
  {
   "cell_type": "code",
   "execution_count": 3,
   "metadata": {},
   "outputs": [],
   "source": [
    "# Importing Image and ImageFilter module from PIL package\n",
    "from PIL import Image, ImageFilter\n",
    "\n",
    "# creating a image object\n",
    "im1 = Image.open(r\"lady.jpg\")\n",
    "\n",
    "# applying the contour filter\n",
    "im2 = im1.filter(ImageFilter.CONTOUR)\n",
    "im2 = im2.save(\"contour.jpg\")\n",
    "#im2.show()\n",
    "#contouring of the image explains simply as a curve joining all the continuous points\n",
    "#(along the boundary) having same color or intensity\n",
    "# it is useful for shape analysis and object detection\n",
    "#no. of characters in the txt file          psnr value\n",
    "#1,218                                        54.868\n",
    "#3,654                                        51.226\n",
    "#7,308‬                                        48.932\n",
    "#12,180                                       47.2463\n",
    "#18,270‬                                       45.1648\n",
    "#24,360                                       43.5397"
   ]
  },
  {
   "cell_type": "markdown",
   "metadata": {},
   "source": [
    "# edgeenhance of the image"
   ]
  },
  {
   "cell_type": "code",
   "execution_count": 4,
   "metadata": {},
   "outputs": [],
   "source": [
    "# Importing Image and ImageFilter module from PIL package\n",
    "from PIL import Image, ImageFilter\n",
    "\n",
    "# creating a image object\n",
    "im1 = Image.open(r\"lady.jpg\")\n",
    "\n",
    "# applying the EDGE_ENHANCE filter\n",
    "im2 = im1.filter(ImageFilter.EDGE_ENHANCE)\n",
    "im2 = im2.save(\"edgeenhance.jpg\")\n",
    "#im2.show()\n",
    "#no. of characters in the txt file          psnr value\n",
    "#1,218                                        56.584\n",
    "#3,654                                        51.027\n",
    "#7,308‬                                        48.436\n",
    "#12,180                                       46.7578\n",
    "#18,270                                       44.4098\n",
    "#24,360                                       42.8495\n"
   ]
  },
  {
   "cell_type": "markdown",
   "metadata": {},
   "source": [
    "# emboss of the image"
   ]
  },
  {
   "cell_type": "code",
   "execution_count": 5,
   "metadata": {},
   "outputs": [],
   "source": [
    "# Importing Image and ImageFilter module from PIL package\n",
    "from PIL import Image, ImageFilter\n",
    "\n",
    "# creating a image object\n",
    "im1 = Image.open(r\"lady.jpg\")\n",
    "\n",
    "# applying the emboss filter\n",
    "im2 = im1.filter(ImageFilter.EMBOSS)\n",
    "im2 = im2.save(\"emboss.jpg\")\n",
    "#im2.show()\n",
    "# emboss is a computer graphics technique in which each pixel of an image\n",
    "#is replaced by a highlight or a ashadow depending on light or dark boundaries of thje original image.\n",
    "#low contrast areas are replaced by gaRY BACKGRAOUND\n",
    "#no. of characters in the txt file          psnr value\n",
    "#1,218                                        57.607\n",
    "#3,654                                        54.440\n",
    "#7,308‬                                        52.307\n",
    "#12,180                                       50.5942\n",
    "#18,270                                       47.9808\n",
    "#24,360                                       45.7946\n",
    "\n"
   ]
  },
  {
   "cell_type": "markdown",
   "metadata": {},
   "source": [
    "# gaussian of the image"
   ]
  },
  {
   "cell_type": "code",
   "execution_count": 6,
   "metadata": {},
   "outputs": [],
   "source": [
    "from PIL import Image, ImageFilter\n",
    "import cv2\n",
    "import numpy as np\n",
    "\n",
    "# Load the image in greyscale\n",
    "#in imread(path,flag) function path specifies the path of the image\n",
    "#and flag specifies whether the image read is color(flag is 1) or garyscale(flag is 0)\n",
    "img = cv2.imread('lady.jpg', 1)\n",
    "\n",
    "# Apply Gaussian Blur\n",
    "blur = cv2.GaussianBlur(img, (3, 3), 0)\n",
    "blur = cv2.imwrite(\"gaussianblur1.jpg\",blur)\n",
    "\n",
    "#cv2.imshow('Gaussianblurimage',blur)\n",
    "#cv2.waitKey(0)\n",
    "#In this approach, instead of a box filter consisting of equal filter coefficients,\n",
    "# a Gaussian kernel is used. It is done with the function, cv2.GaussianBlur().\n",
    "# We should specify the width and height of the kernel which should be positive and odd.\n",
    "# We also should specify the standard deviation in the X and Y directions,\n",
    "# sigmaX and sigmaY respectively. If only sigmaX is specified, sigmaY is taken as equal to sigmaX.\n",
    "# If both are given as zeros, they are calculated from the kernel size.\n",
    "#Gaussian filtering is highly effective in removing Gaussian noise from the image.\n",
    "#no. of characters in the txt file          psnr value\n",
    "#1,218                                       59.9855\n",
    "#3,654                                       55.206\n",
    "#7,308‬                                       52.765\n",
    "#12,180                                      51.0688\n",
    "#18,270                                      48.6405\n",
    "#24,360                                      47.1403\n"
   ]
  },
  {
   "cell_type": "markdown",
   "metadata": {},
   "source": [
    "# laplacian of the image"
   ]
  },
  {
   "cell_type": "code",
   "execution_count": 7,
   "metadata": {},
   "outputs": [],
   "source": [
    "import cv2\n",
    "import numpy as np\n",
    "\n",
    "# Load the image in greyscale\n",
    "img = cv2.imread('lady.jpg',1)\n",
    "\n",
    "# Apply Laplacian operator in some higher datatype\n",
    "laplacian = cv2.Laplacian(img, cv2.CV_64F)\n",
    "laplacian = cv2.imwrite(\"laplacianblur1.jpg\",laplacian)\n",
    "#cv2.imshow('laplacianblurimage',laplacian)\n",
    "#cv2.waitKey(0)\n",
    "#no. of characters in the txt file          psnr value\n",
    "#1,218                                      58.185\n",
    "#3,654                                      53.727\n",
    "#7,308‬                                      50.822\n",
    "#12,180                                     48.8420\n",
    "#18,270                                     46.3883\n",
    "#24,360                                     44.14066\n",
    "#30,450‬"
   ]
  },
  {
   "cell_type": "code",
   "execution_count": null,
   "metadata": {},
   "outputs": [],
   "source": []
  }
 ],
 "metadata": {
  "kernelspec": {
   "display_name": "Python 3",
   "language": "python",
   "name": "python3"
  },
  "language_info": {
   "codemirror_mode": {
    "name": "ipython",
    "version": 3
   },
   "file_extension": ".py",
   "mimetype": "text/x-python",
   "name": "python",
   "nbconvert_exporter": "python",
   "pygments_lexer": "ipython3",
   "version": "3.7.0"
  }
 },
 "nbformat": 4,
 "nbformat_minor": 2
}
