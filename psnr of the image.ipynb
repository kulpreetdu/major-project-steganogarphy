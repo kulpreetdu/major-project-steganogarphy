{
 "cells": [
  {
   "cell_type": "markdown",
   "metadata": {},
   "source": [
    "# psnr of the image"
   ]
  },
  {
   "cell_type": "code",
   "execution_count": 1,
   "metadata": {},
   "outputs": [
    {
     "name": "stdout",
     "output_type": "stream",
     "text": [
      "47.582690049645194\n"
     ]
    }
   ],
   "source": [
    "\"\"\"\n",
    "Signal-to-noise ratio numbers are all about the strength of the desired signal compared to the unwanted noise.\n",
    "The larger the number, the more the desired signal “stands out” \n",
    "in comparison to the noise, which means a clearer transmission of better technical quality. \n",
    "A negative number means the noise is stronger than the desired signal, which may spell trouble, \n",
    "such as a cell phone conversation that’s too garbled to understand.\n",
    "\"\"\"\n",
    "import numpy\n",
    "import math\n",
    "import cv2\n",
    "original = cv2.imread(\"lady.jpg\")\n",
    "contrast = cv2.imread(\"protest.png\",1)\n",
    "def psnr(img1, img2):\n",
    "    mse = numpy.mean( (img1 - img2) ** 2 )\n",
    "    if mse == 0:\n",
    "        return 100\n",
    "    PIXEL_MAX = 255.0\n",
    "    return 20 * math.log10(PIXEL_MAX / math.sqrt(mse))\n",
    "\n",
    "d=psnr(original,contrast)\n",
    "print(d)"
   ]
  },
  {
   "cell_type": "markdown",
   "metadata": {},
   "source": [
    "# concatenate of the image"
   ]
  },
  {
   "cell_type": "code",
   "execution_count": null,
   "metadata": {},
   "outputs": [],
   "source": [
    "import cv2\n",
    "import numpy as np\n",
    "\n",
    "im1 = cv2.imread('lady.jpg')\n",
    "im2 = cv2.imread('protest.png')\n",
    "#import numpy as np\n",
    "img=np.concatenate((im1,im2),axis=1)\n",
    "#display(img)\n",
    "cv2.imshow(\"concatenated image\",img)\n",
    "cv2.waitKey(0)\n",
    "cv2.destroyAllWindows()"
   ]
  },
  {
   "cell_type": "code",
   "execution_count": null,
   "metadata": {},
   "outputs": [],
   "source": []
  }
 ],
 "metadata": {
  "kernelspec": {
   "display_name": "Python 3",
   "language": "python",
   "name": "python3"
  },
  "language_info": {
   "codemirror_mode": {
    "name": "ipython",
    "version": 3
   },
   "file_extension": ".py",
   "mimetype": "text/x-python",
   "name": "python",
   "nbconvert_exporter": "python",
   "pygments_lexer": "ipython3",
   "version": "3.7.0"
  }
 },
 "nbformat": 4,
 "nbformat_minor": 2
}
